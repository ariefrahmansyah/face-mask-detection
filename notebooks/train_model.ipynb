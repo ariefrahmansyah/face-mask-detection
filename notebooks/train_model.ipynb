{
 "cells": [
  {
   "cell_type": "markdown",
   "metadata": {},
   "source": [
    "# Train the face mask detector model"
   ]
  },
  {
   "cell_type": "markdown",
   "metadata": {},
   "source": [
    "## Preprocess the dataset"
   ]
  },
  {
   "cell_type": "code",
   "execution_count": 1,
   "metadata": {},
   "outputs": [
    {
     "name": "stderr",
     "output_type": "stream",
     "text": [
      "/Users/ariefrahmansyah/.local/share/virtualenvs/face-mask-detection-RKX5C9o_/lib/python3.8/site-packages/PIL/Image.py:959: UserWarning: Palette images with Transparency expressed in bytes should be converted to RGBA images\n",
      "  warnings.warn(\n"
     ]
    }
   ],
   "source": [
    "# Get the images\n",
    "\n",
    "from tensorflow.keras.applications.mobilenet_v2 import preprocess_input\n",
    "from tensorflow.keras.preprocessing.image import img_to_array\n",
    "from tensorflow.keras.preprocessing.image import load_img\n",
    "\n",
    "from imutils import paths\n",
    "import os\n",
    "\n",
    "data = []\n",
    "labels = []\n",
    "\n",
    "DATA_PATH = \"../data\"\n",
    "image_path_list = list(paths.list_images(DATA_PATH))\n",
    "\n",
    "for image_path in image_path_list:\n",
    "    # extract the class label from the filename\n",
    "    label = image_path.split(os.path.sep)[-2]\n",
    "\n",
    "    # load the input image (224x224) and preprocess it\n",
    "    image = load_img(image_path, target_size=(224, 224))\n",
    "    image = img_to_array(image)\n",
    "    image = preprocess_input(image)\n",
    "    \n",
    "    # update the data and labels lists, respectively\n",
    "    data.append(image)\n",
    "    labels.append(label)"
   ]
  },
  {
   "cell_type": "code",
   "execution_count": 2,
   "metadata": {},
   "outputs": [],
   "source": [
    "# Convert the images and labels to NumPy array\n",
    "\n",
    "import numpy as np\n",
    "\n",
    "data = np.array(data, dtype=\"float32\")\n",
    "labels = np.array(labels)"
   ]
  },
  {
   "cell_type": "code",
   "execution_count": 3,
   "metadata": {},
   "outputs": [],
   "source": [
    "# Perform one-hot encoding on the labels\n",
    "\n",
    "from sklearn.preprocessing import LabelBinarizer\n",
    "from tensorflow.keras.utils import to_categorical\n",
    "\n",
    "lb = LabelBinarizer()\n",
    "labels = lb.fit_transform(labels)\n",
    "labels = to_categorical(labels)"
   ]
  },
  {
   "cell_type": "code",
   "execution_count": 4,
   "metadata": {},
   "outputs": [],
   "source": [
    "# Partition the data into training and testing\n",
    "\n",
    "from sklearn.model_selection import train_test_split\n",
    "\n",
    "TEST_SIZE = 0.20\n",
    "(trainX, testX, trainY, testY) = train_test_split(data, labels, \n",
    "                                                  test_size=TEST_SIZE, stratify=labels, random_state=42)"
   ]
  },
  {
   "cell_type": "markdown",
   "metadata": {},
   "source": [
    "## Build and train the model"
   ]
  },
  {
   "cell_type": "code",
   "execution_count": 5,
   "metadata": {},
   "outputs": [],
   "source": [
    "# Construct the training image generator for data augmentation\n",
    "\n",
    "from tensorflow.keras.preprocessing.image import ImageDataGenerator\n",
    "\n",
    "aug = ImageDataGenerator(\n",
    "    rotation_range=20,\n",
    "    zoom_range=0.15,\n",
    "    width_shift_range=0.2,\n",
    "    height_shift_range=0.2,\n",
    "    shear_range=0.15,\n",
    "    horizontal_flip=True,\n",
    "    fill_mode=\"nearest\")"
   ]
  },
  {
   "cell_type": "code",
   "execution_count": 6,
   "metadata": {},
   "outputs": [
    {
     "name": "stdout",
     "output_type": "stream",
     "text": [
      "WARNING:tensorflow:`input_shape` is undefined or non-square, or `rows` is not in [96, 128, 160, 192, 224]. Weights for input shape (224, 224) will be loaded as the default.\n"
     ]
    }
   ],
   "source": [
    "# Load the MobileNetV2 network, ensuring the head FC layer sets are left off\n",
    "\n",
    "from tensorflow.keras.applications import MobileNetV2\n",
    "from tensorflow.keras.layers import Input\n",
    "\n",
    "baseModel = MobileNetV2(\n",
    "    weights=\"imagenet\",\n",
    "    include_top=False,\n",
    "    input_tensor=Input(shape=(224, 224, 3)))"
   ]
  },
  {
   "cell_type": "code",
   "execution_count": 7,
   "metadata": {},
   "outputs": [],
   "source": [
    "# Construct the head of the model that will be placed on top of the base model\n",
    "\n",
    "from tensorflow.keras.layers import AveragePooling2D\n",
    "from tensorflow.keras.layers import Dense\n",
    "from tensorflow.keras.layers import Dropout\n",
    "from tensorflow.keras.layers import Flatten\n",
    "\n",
    "headModel = baseModel.output\n",
    "headModel = AveragePooling2D(pool_size=(7, 7))(headModel)\n",
    "headModel = Flatten(name=\"flatten\")(headModel)\n",
    "headModel = Dense(128, activation=\"relu\")(headModel)\n",
    "headModel = Dropout(0.5)(headModel)\n",
    "headModel = Dense(2, activation=\"softmax\")(headModel)"
   ]
  },
  {
   "cell_type": "code",
   "execution_count": 8,
   "metadata": {},
   "outputs": [],
   "source": [
    "# Place the head FC model on top of the base model (this will become the actual model we will train)\n",
    "\n",
    "from tensorflow.keras.models import Model\n",
    "\n",
    "model = Model(inputs=baseModel.input, outputs=headModel)"
   ]
  },
  {
   "cell_type": "code",
   "execution_count": 9,
   "metadata": {},
   "outputs": [],
   "source": [
    "# Loop over all layers in the base model and freeze them so they will *not* be updated during the first training process\n",
    "\n",
    "for layer in baseModel.layers:\n",
    "    layer.trainable = False"
   ]
  },
  {
   "cell_type": "code",
   "execution_count": 10,
   "metadata": {},
   "outputs": [],
   "source": [
    "# Initialize the initial learning rate, number of epochs to train for, and batch size\n",
    "\n",
    "INIT_LR = 1e-4\n",
    "EPOCHS = 20\n",
    "BATCH_SIZE = 32"
   ]
  },
  {
   "cell_type": "code",
   "execution_count": 11,
   "metadata": {},
   "outputs": [],
   "source": [
    "# Compile the model\n",
    "\n",
    "from tensorflow.keras.optimizers import Adam\n",
    "\n",
    "opt = Adam(lr=INIT_LR, decay=INIT_LR / EPOCHS)\n",
    "model.compile(loss=\"binary_crossentropy\", optimizer=opt, metrics=[\"accuracy\"])"
   ]
  },
  {
   "cell_type": "code",
   "execution_count": 12,
   "metadata": {},
   "outputs": [
    {
     "name": "stdout",
     "output_type": "stream",
     "text": [
      "Epoch 1/20\n",
      "95/95 [==============================] - 82s 866ms/step - loss: 0.3748 - accuracy: 0.8332 - val_loss: 0.1048 - val_accuracy: 0.9700\n",
      "Epoch 2/20\n",
      "95/95 [==============================] - 88s 927ms/step - loss: 0.1350 - accuracy: 0.9575 - val_loss: 0.0714 - val_accuracy: 0.9817\n",
      "Epoch 3/20\n",
      "95/95 [==============================] - 104s 1s/step - loss: 0.0861 - accuracy: 0.9710 - val_loss: 0.0616 - val_accuracy: 0.9817\n",
      "Epoch 4/20\n",
      "95/95 [==============================] - 108s 1s/step - loss: 0.0679 - accuracy: 0.9782 - val_loss: 0.0529 - val_accuracy: 0.9831\n",
      "Epoch 5/20\n",
      "95/95 [==============================] - 108s 1s/step - loss: 0.0598 - accuracy: 0.9825 - val_loss: 0.0518 - val_accuracy: 0.9844\n",
      "Epoch 6/20\n",
      "95/95 [==============================] - 97s 1s/step - loss: 0.0541 - accuracy: 0.9842 - val_loss: 0.0480 - val_accuracy: 0.9831\n",
      "Epoch 7/20\n",
      "95/95 [==============================] - 105s 1s/step - loss: 0.0494 - accuracy: 0.9829 - val_loss: 0.0431 - val_accuracy: 0.9857\n",
      "Epoch 8/20\n",
      "95/95 [==============================] - 102s 1s/step - loss: 0.0491 - accuracy: 0.9815 - val_loss: 0.0394 - val_accuracy: 0.9870\n",
      "Epoch 9/20\n",
      "95/95 [==============================] - 97s 1s/step - loss: 0.0455 - accuracy: 0.9848 - val_loss: 0.0401 - val_accuracy: 0.9896\n",
      "Epoch 10/20\n",
      "95/95 [==============================] - 107s 1s/step - loss: 0.0310 - accuracy: 0.9908 - val_loss: 0.0362 - val_accuracy: 0.9883\n",
      "Epoch 11/20\n",
      "95/95 [==============================] - 96s 1s/step - loss: 0.0380 - accuracy: 0.9868 - val_loss: 0.0391 - val_accuracy: 0.9883\n",
      "Epoch 12/20\n",
      "95/95 [==============================] - 92s 967ms/step - loss: 0.0293 - accuracy: 0.9924 - val_loss: 0.0318 - val_accuracy: 0.9909\n",
      "Epoch 13/20\n",
      "95/95 [==============================] - 114s 1s/step - loss: 0.0307 - accuracy: 0.9904 - val_loss: 0.0336 - val_accuracy: 0.9909\n",
      "Epoch 14/20\n",
      "95/95 [==============================] - 98s 1s/step - loss: 0.0315 - accuracy: 0.9898 - val_loss: 0.0336 - val_accuracy: 0.9883\n",
      "Epoch 15/20\n",
      "95/95 [==============================] - 95s 996ms/step - loss: 0.0302 - accuracy: 0.9895 - val_loss: 0.0388 - val_accuracy: 0.9896\n",
      "Epoch 16/20\n",
      "95/95 [==============================] - 91s 956ms/step - loss: 0.0314 - accuracy: 0.9908 - val_loss: 0.0310 - val_accuracy: 0.9909\n",
      "Epoch 17/20\n",
      "95/95 [==============================] - 97s 1s/step - loss: 0.0281 - accuracy: 0.9927 - val_loss: 0.0319 - val_accuracy: 0.9909\n",
      "Epoch 18/20\n",
      "95/95 [==============================] - 82s 860ms/step - loss: 0.0181 - accuracy: 0.9944 - val_loss: 0.0351 - val_accuracy: 0.9896\n",
      "Epoch 19/20\n",
      "95/95 [==============================] - 70s 741ms/step - loss: 0.0223 - accuracy: 0.9918 - val_loss: 0.0309 - val_accuracy: 0.9909\n",
      "Epoch 20/20\n",
      "95/95 [==============================] - 83s 869ms/step - loss: 0.0252 - accuracy: 0.9901 - val_loss: 0.0318 - val_accuracy: 0.9909\n"
     ]
    }
   ],
   "source": [
    "# Train the head of the network\n",
    "\n",
    "H = model.fit(\n",
    "    aug.flow(trainX, trainY, batch_size=BATCH_SIZE),\n",
    "    steps_per_epoch=len(trainX) // BATCH_SIZE,\n",
    "    validation_data=(testX, testY),\n",
    "    validation_steps=len(testX) // BATCH_SIZE,\n",
    "    epochs=EPOCHS)"
   ]
  },
  {
   "cell_type": "markdown",
   "metadata": {},
   "source": [
    "## Evaluate the model"
   ]
  },
  {
   "cell_type": "code",
   "execution_count": 14,
   "metadata": {},
   "outputs": [],
   "source": [
    "# Make predictions on the testing dataset\n",
    "predIdxs = model.predict(testX, batch_size=BATCH_SIZE)\n",
    "\n",
    "# For each image in the testing set we need to find the index of the label with corresponding largest predicted probability\n",
    "predIdxs = np.argmax(predIdxs, axis=1)"
   ]
  },
  {
   "cell_type": "code",
   "execution_count": 15,
   "metadata": {},
   "outputs": [
    {
     "name": "stdout",
     "output_type": "stream",
     "text": [
      "              precision    recall  f1-score   support\n",
      "\n",
      "   with_mask       0.99      0.99      0.99       383\n",
      "without_mask       0.99      0.99      0.99       384\n",
      "\n",
      "    accuracy                           0.99       767\n",
      "   macro avg       0.99      0.99      0.99       767\n",
      "weighted avg       0.99      0.99      0.99       767\n",
      "\n"
     ]
    }
   ],
   "source": [
    "# Show a nicely formatted classification report\n",
    "\n",
    "from sklearn.metrics import classification_report\n",
    "\n",
    "print(classification_report(testY.argmax(axis=1), predIdxs, target_names=lb.classes_))"
   ]
  },
  {
   "cell_type": "code",
   "execution_count": 16,
   "metadata": {},
   "outputs": [
    {
     "data": {
      "text/plain": [
       "<matplotlib.legend.Legend at 0x1b7b33dc0>"
      ]
     },
     "execution_count": 16,
     "metadata": {},
     "output_type": "execute_result"
    },
    {
     "data": {
      "image/png": "[encoded data removed]",
      "text/plain": [
       "<Figure size 432x288 with 1 Axes>"
      ]
     },
     "metadata": {},
     "output_type": "display_data"
    }
   ],
   "source": [
    "# plot the training loss and accuracy\n",
    "\n",
    "import matplotlib.pyplot as plt\n",
    "\n",
    "plt.style.use(\"ggplot\")\n",
    "plt.figure()\n",
    "\n",
    "plt.plot(np.arange(0, EPOCHS), H.history[\"loss\"], label=\"train_loss\")\n",
    "plt.plot(np.arange(0, EPOCHS), H.history[\"val_loss\"], label=\"val_loss\")\n",
    "plt.plot(np.arange(0, EPOCHS), H.history[\"accuracy\"], label=\"train_acc\")\n",
    "plt.plot(np.arange(0, EPOCHS), H.history[\"val_accuracy\"], label=\"val_acc\")\n",
    "\n",
    "plt.title(\"Training Loss and Accuracy\")\n",
    "plt.xlabel(\"Epoch #\")\n",
    "plt.ylabel(\"Loss/Accuracy\")\n",
    "plt.legend(loc=\"lower left\")"
   ]
  },
  {
   "cell_type": "markdown",
   "metadata": {},
   "source": [
    "# Save and export model"
   ]
  },
  {
   "cell_type": "code",
   "execution_count": 17,
   "metadata": {},
   "outputs": [],
   "source": [
    "# Save the model\n",
    "\n",
    "MODEL_PATH = \"../models/face_mask_detector.h5\"\n",
    "model.save(MODEL_PATH, save_format=\"h5\")"
   ]
  },
  {
   "cell_type": "code",
   "execution_count": 19,
   "metadata": {},
   "outputs": [],
   "source": [
    "# Export into TensorFlow.js\n",
    "\n",
    "import tensorflowjs as tfjs\n",
    "\n",
    "TFJS_MODEL_DIR = \"../models/tfjs\"\n",
    "tfjs.converters.save_keras_model(model, TFJS_MODEL_DIR)"
   ]
  }
 ],
 "metadata": {
  "kernelspec": {
   "display_name": "face-mask-detection",
   "language": "python",
   "name": "face-mask-detection"
  },
  "language_info": {
   "codemirror_mode": {
    "name": "ipython",
    "version": 3
   },
   "file_extension": ".py",
   "mimetype": "text/x-python",
   "name": "python",
   "nbconvert_exporter": "python",
   "pygments_lexer": "ipython3",
   "version": "3.8.3"
  }
 },
 "nbformat": 4,
 "nbformat_minor": 4
}
