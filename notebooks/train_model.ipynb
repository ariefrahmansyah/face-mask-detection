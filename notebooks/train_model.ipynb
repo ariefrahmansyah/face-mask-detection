{
 "cells": [
  {
   "cell_type": "markdown",
   "metadata": {},
   "source": [
    "# Install dependencies"
   ]
  },
  {
   "cell_type": "code",
   "execution_count": 1,
   "metadata": {},
   "outputs": [
    {
     "name": "stdout",
     "output_type": "stream",
     "text": [
      "Requirement already satisfied: imutils==0.5.3 in /Users/ariefrahmansyah/.local/share/virtualenvs/face-mask-detection-RKX5C9o_/lib/python3.8/site-packages (from -r https://raw.githubusercontent.com/ariefrahmansyah/face-mask-detection/master/requirements.txt (line 1)) (0.5.3)\n",
      "Requirement already satisfied: keras==2.4.2 in /Users/ariefrahmansyah/.local/share/virtualenvs/face-mask-detection-RKX5C9o_/lib/python3.8/site-packages (from -r https://raw.githubusercontent.com/ariefrahmansyah/face-mask-detection/master/requirements.txt (line 2)) (2.4.2)\n",
      "Requirement already satisfied: opencv-python==4.2.0.* in /Users/ariefrahmansyah/.local/share/virtualenvs/face-mask-detection-RKX5C9o_/lib/python3.8/site-packages (from -r https://raw.githubusercontent.com/ariefrahmansyah/face-mask-detection/master/requirements.txt (line 3)) (4.2.0.34)\n",
      "Requirement already satisfied: matplotlib==3.2.2 in /Users/ariefrahmansyah/.local/share/virtualenvs/face-mask-detection-RKX5C9o_/lib/python3.8/site-packages (from -r https://raw.githubusercontent.com/ariefrahmansyah/face-mask-detection/master/requirements.txt (line 4)) (3.2.2)\n",
      "Requirement already satisfied: numpy==1.18.5 in /Users/ariefrahmansyah/.local/share/virtualenvs/face-mask-detection-RKX5C9o_/lib/python3.8/site-packages (from -r https://raw.githubusercontent.com/ariefrahmansyah/face-mask-detection/master/requirements.txt (line 5)) (1.18.5)\n",
      "Requirement already satisfied: pillow==7.1.2 in /Users/ariefrahmansyah/.local/share/virtualenvs/face-mask-detection-RKX5C9o_/lib/python3.8/site-packages (from -r https://raw.githubusercontent.com/ariefrahmansyah/face-mask-detection/master/requirements.txt (line 6)) (7.1.2)\n",
      "Requirement already satisfied: prompt-toolkit==3.0.5 in /Users/ariefrahmansyah/.local/share/virtualenvs/face-mask-detection-RKX5C9o_/lib/python3.8/site-packages (from -r https://raw.githubusercontent.com/ariefrahmansyah/face-mask-detection/master/requirements.txt (line 7)) (3.0.5)\n",
      "Requirement already satisfied: scikit-learn==0.23.1 in /Users/ariefrahmansyah/.local/share/virtualenvs/face-mask-detection-RKX5C9o_/lib/python3.8/site-packages (from -r https://raw.githubusercontent.com/ariefrahmansyah/face-mask-detection/master/requirements.txt (line 8)) (0.23.1)\n",
      "Requirement already satisfied: tensorflow==2.2.0 in /Users/ariefrahmansyah/.local/share/virtualenvs/face-mask-detection-RKX5C9o_/lib/python3.8/site-packages (from -r https://raw.githubusercontent.com/ariefrahmansyah/face-mask-detection/master/requirements.txt (line 9)) (2.2.0)\n",
      "Requirement already satisfied: tensorflowjs==2.0.1 in /Users/ariefrahmansyah/.local/share/virtualenvs/face-mask-detection-RKX5C9o_/lib/python3.8/site-packages (from -r https://raw.githubusercontent.com/ariefrahmansyah/face-mask-detection/master/requirements.txt (line 10)) (2.0.1)\n",
      "Requirement already satisfied: scipy>=0.14 in /Users/ariefrahmansyah/.local/share/virtualenvs/face-mask-detection-RKX5C9o_/lib/python3.8/site-packages (from keras==2.4.2->-r https://raw.githubusercontent.com/ariefrahmansyah/face-mask-detection/master/requirements.txt (line 2)) (1.4.1)\n",
      "Requirement already satisfied: h5py in /Users/ariefrahmansyah/.local/share/virtualenvs/face-mask-detection-RKX5C9o_/lib/python3.8/site-packages (from keras==2.4.2->-r https://raw.githubusercontent.com/ariefrahmansyah/face-mask-detection/master/requirements.txt (line 2)) (2.10.0)\n",
      "Requirement already satisfied: pyyaml in /Users/ariefrahmansyah/.local/share/virtualenvs/face-mask-detection-RKX5C9o_/lib/python3.8/site-packages (from keras==2.4.2->-r https://raw.githubusercontent.com/ariefrahmansyah/face-mask-detection/master/requirements.txt (line 2)) (5.3.1)\n",
      "Requirement already satisfied: pyparsing!=2.0.4,!=2.1.2,!=2.1.6,>=2.0.1 in /Users/ariefrahmansyah/.local/share/virtualenvs/face-mask-detection-RKX5C9o_/lib/python3.8/site-packages (from matplotlib==3.2.2->-r https://raw.githubusercontent.com/ariefrahmansyah/face-mask-detection/master/requirements.txt (line 4)) (2.4.7)\n",
      "Requirement already satisfied: cycler>=0.10 in /Users/ariefrahmansyah/.local/share/virtualenvs/face-mask-detection-RKX5C9o_/lib/python3.8/site-packages (from matplotlib==3.2.2->-r https://raw.githubusercontent.com/ariefrahmansyah/face-mask-detection/master/requirements.txt (line 4)) (0.10.0)\n",
      "Requirement already satisfied: kiwisolver>=1.0.1 in /Users/ariefrahmansyah/.local/share/virtualenvs/face-mask-detection-RKX5C9o_/lib/python3.8/site-packages (from matplotlib==3.2.2->-r https://raw.githubusercontent.com/ariefrahmansyah/face-mask-detection/master/requirements.txt (line 4)) (1.2.0)\n",
      "Requirement already satisfied: python-dateutil>=2.1 in /Users/ariefrahmansyah/.local/share/virtualenvs/face-mask-detection-RKX5C9o_/lib/python3.8/site-packages (from matplotlib==3.2.2->-r https://raw.githubusercontent.com/ariefrahmansyah/face-mask-detection/master/requirements.txt (line 4)) (2.8.1)\n",
      "Requirement already satisfied: wcwidth in /Users/ariefrahmansyah/.local/share/virtualenvs/face-mask-detection-RKX5C9o_/lib/python3.8/site-packages (from prompt-toolkit==3.0.5->-r https://raw.githubusercontent.com/ariefrahmansyah/face-mask-detection/master/requirements.txt (line 7)) (0.2.4)\n",
      "Requirement already satisfied: joblib>=0.11 in /Users/ariefrahmansyah/.local/share/virtualenvs/face-mask-detection-RKX5C9o_/lib/python3.8/site-packages (from scikit-learn==0.23.1->-r https://raw.githubusercontent.com/ariefrahmansyah/face-mask-detection/master/requirements.txt (line 8)) (0.15.1)\n",
      "Requirement already satisfied: threadpoolctl>=2.0.0 in /Users/ariefrahmansyah/.local/share/virtualenvs/face-mask-detection-RKX5C9o_/lib/python3.8/site-packages (from scikit-learn==0.23.1->-r https://raw.githubusercontent.com/ariefrahmansyah/face-mask-detection/master/requirements.txt (line 8)) (2.1.0)\n",
      "Requirement already satisfied: protobuf>=3.8.0 in /Users/ariefrahmansyah/.local/share/virtualenvs/face-mask-detection-RKX5C9o_/lib/python3.8/site-packages (from tensorflow==2.2.0->-r https://raw.githubusercontent.com/ariefrahmansyah/face-mask-detection/master/requirements.txt (line 9)) (3.12.2)\n",
      "Requirement already satisfied: wrapt>=1.11.1 in /Users/ariefrahmansyah/.local/share/virtualenvs/face-mask-detection-RKX5C9o_/lib/python3.8/site-packages (from tensorflow==2.2.0->-r https://raw.githubusercontent.com/ariefrahmansyah/face-mask-detection/master/requirements.txt (line 9)) (1.12.1)\n",
      "Requirement already satisfied: tensorflow-estimator<2.3.0,>=2.2.0 in /Users/ariefrahmansyah/.local/share/virtualenvs/face-mask-detection-RKX5C9o_/lib/python3.8/site-packages (from tensorflow==2.2.0->-r https://raw.githubusercontent.com/ariefrahmansyah/face-mask-detection/master/requirements.txt (line 9)) (2.2.0)\n",
      "Requirement already satisfied: absl-py>=0.7.0 in /Users/ariefrahmansyah/.local/share/virtualenvs/face-mask-detection-RKX5C9o_/lib/python3.8/site-packages (from tensorflow==2.2.0->-r https://raw.githubusercontent.com/ariefrahmansyah/face-mask-detection/master/requirements.txt (line 9)) (0.9.0)\n",
      "Requirement already satisfied: astunparse==1.6.3 in /Users/ariefrahmansyah/.local/share/virtualenvs/face-mask-detection-RKX5C9o_/lib/python3.8/site-packages (from tensorflow==2.2.0->-r https://raw.githubusercontent.com/ariefrahmansyah/face-mask-detection/master/requirements.txt (line 9)) (1.6.3)\n",
      "Requirement already satisfied: google-pasta>=0.1.8 in /Users/ariefrahmansyah/.local/share/virtualenvs/face-mask-detection-RKX5C9o_/lib/python3.8/site-packages (from tensorflow==2.2.0->-r https://raw.githubusercontent.com/ariefrahmansyah/face-mask-detection/master/requirements.txt (line 9)) (0.2.0)\n",
      "Requirement already satisfied: termcolor>=1.1.0 in /Users/ariefrahmansyah/.local/share/virtualenvs/face-mask-detection-RKX5C9o_/lib/python3.8/site-packages (from tensorflow==2.2.0->-r https://raw.githubusercontent.com/ariefrahmansyah/face-mask-detection/master/requirements.txt (line 9)) (1.1.0)\n",
      "Requirement already satisfied: opt-einsum>=2.3.2 in /Users/ariefrahmansyah/.local/share/virtualenvs/face-mask-detection-RKX5C9o_/lib/python3.8/site-packages (from tensorflow==2.2.0->-r https://raw.githubusercontent.com/ariefrahmansyah/face-mask-detection/master/requirements.txt (line 9)) (3.2.1)\n",
      "Requirement already satisfied: six>=1.12.0 in /Users/ariefrahmansyah/.local/share/virtualenvs/face-mask-detection-RKX5C9o_/lib/python3.8/site-packages (from tensorflow==2.2.0->-r https://raw.githubusercontent.com/ariefrahmansyah/face-mask-detection/master/requirements.txt (line 9)) (1.15.0)\n",
      "Requirement already satisfied: gast==0.3.3 in /Users/ariefrahmansyah/.local/share/virtualenvs/face-mask-detection-RKX5C9o_/lib/python3.8/site-packages (from tensorflow==2.2.0->-r https://raw.githubusercontent.com/ariefrahmansyah/face-mask-detection/master/requirements.txt (line 9)) (0.3.3)\n",
      "Requirement already satisfied: wheel>=0.26; python_version >= \"3\" in /Users/ariefrahmansyah/.local/share/virtualenvs/face-mask-detection-RKX5C9o_/lib/python3.8/site-packages (from tensorflow==2.2.0->-r https://raw.githubusercontent.com/ariefrahmansyah/face-mask-detection/master/requirements.txt (line 9)) (0.34.2)\n",
      "Requirement already satisfied: keras-preprocessing>=1.1.0 in /Users/ariefrahmansyah/.local/share/virtualenvs/face-mask-detection-RKX5C9o_/lib/python3.8/site-packages (from tensorflow==2.2.0->-r https://raw.githubusercontent.com/ariefrahmansyah/face-mask-detection/master/requirements.txt (line 9)) (1.1.2)\n",
      "Requirement already satisfied: grpcio>=1.8.6 in /Users/ariefrahmansyah/.local/share/virtualenvs/face-mask-detection-RKX5C9o_/lib/python3.8/site-packages (from tensorflow==2.2.0->-r https://raw.githubusercontent.com/ariefrahmansyah/face-mask-detection/master/requirements.txt (line 9)) (1.29.0)\n",
      "Requirement already satisfied: tensorboard<2.3.0,>=2.2.0 in /Users/ariefrahmansyah/.local/share/virtualenvs/face-mask-detection-RKX5C9o_/lib/python3.8/site-packages (from tensorflow==2.2.0->-r https://raw.githubusercontent.com/ariefrahmansyah/face-mask-detection/master/requirements.txt (line 9)) (2.2.2)\n",
      "Requirement already satisfied: PyInquirer==1.0.3 in /Users/ariefrahmansyah/.local/share/virtualenvs/face-mask-detection-RKX5C9o_/lib/python3.8/site-packages (from tensorflowjs==2.0.1->-r https://raw.githubusercontent.com/ariefrahmansyah/face-mask-detection/master/requirements.txt (line 10)) (1.0.3)\n",
      "Requirement already satisfied: tensorflow-cpu>=2.1.0<3 in /Users/ariefrahmansyah/.local/share/virtualenvs/face-mask-detection-RKX5C9o_/lib/python3.8/site-packages (from tensorflowjs==2.0.1->-r https://raw.githubusercontent.com/ariefrahmansyah/face-mask-detection/master/requirements.txt (line 10)) (2.2.0)\n",
      "Requirement already satisfied: tensorflow-hub==0.7.0 in /Users/ariefrahmansyah/.local/share/virtualenvs/face-mask-detection-RKX5C9o_/lib/python3.8/site-packages (from tensorflowjs==2.0.1->-r https://raw.githubusercontent.com/ariefrahmansyah/face-mask-detection/master/requirements.txt (line 10)) (0.7.0)\n",
      "Requirement already satisfied: setuptools in /Users/ariefrahmansyah/.local/share/virtualenvs/face-mask-detection-RKX5C9o_/lib/python3.8/site-packages (from protobuf>=3.8.0->tensorflow==2.2.0->-r https://raw.githubusercontent.com/ariefrahmansyah/face-mask-detection/master/requirements.txt (line 9)) (46.0.0)\n",
      "Requirement already satisfied: google-auth<2,>=1.6.3 in /Users/ariefrahmansyah/.local/share/virtualenvs/face-mask-detection-RKX5C9o_/lib/python3.8/site-packages (from tensorboard<2.3.0,>=2.2.0->tensorflow==2.2.0->-r https://raw.githubusercontent.com/ariefrahmansyah/face-mask-detection/master/requirements.txt (line 9)) (1.18.0)\n",
      "Requirement already satisfied: google-auth-oauthlib<0.5,>=0.4.1 in /Users/ariefrahmansyah/.local/share/virtualenvs/face-mask-detection-RKX5C9o_/lib/python3.8/site-packages (from tensorboard<2.3.0,>=2.2.0->tensorflow==2.2.0->-r https://raw.githubusercontent.com/ariefrahmansyah/face-mask-detection/master/requirements.txt (line 9)) (0.4.1)\n",
      "Requirement already satisfied: werkzeug>=0.11.15 in /Users/ariefrahmansyah/.local/share/virtualenvs/face-mask-detection-RKX5C9o_/lib/python3.8/site-packages (from tensorboard<2.3.0,>=2.2.0->tensorflow==2.2.0->-r https://raw.githubusercontent.com/ariefrahmansyah/face-mask-detection/master/requirements.txt (line 9)) (1.0.1)\n",
      "Requirement already satisfied: requests<3,>=2.21.0 in /Users/ariefrahmansyah/.local/share/virtualenvs/face-mask-detection-RKX5C9o_/lib/python3.8/site-packages (from tensorboard<2.3.0,>=2.2.0->tensorflow==2.2.0->-r https://raw.githubusercontent.com/ariefrahmansyah/face-mask-detection/master/requirements.txt (line 9)) (2.24.0)\n",
      "Requirement already satisfied: tensorboard-plugin-wit>=1.6.0 in /Users/ariefrahmansyah/.local/share/virtualenvs/face-mask-detection-RKX5C9o_/lib/python3.8/site-packages (from tensorboard<2.3.0,>=2.2.0->tensorflow==2.2.0->-r https://raw.githubusercontent.com/ariefrahmansyah/face-mask-detection/master/requirements.txt (line 9)) (1.6.0.post3)\n",
      "Requirement already satisfied: markdown>=2.6.8 in /Users/ariefrahmansyah/.local/share/virtualenvs/face-mask-detection-RKX5C9o_/lib/python3.8/site-packages (from tensorboard<2.3.0,>=2.2.0->tensorflow==2.2.0->-r https://raw.githubusercontent.com/ariefrahmansyah/face-mask-detection/master/requirements.txt (line 9)) (3.2.2)\n",
      "Requirement already satisfied: regex>=2016.11.21 in /Users/ariefrahmansyah/.local/share/virtualenvs/face-mask-detection-RKX5C9o_/lib/python3.8/site-packages (from PyInquirer==1.0.3->tensorflowjs==2.0.1->-r https://raw.githubusercontent.com/ariefrahmansyah/face-mask-detection/master/requirements.txt (line 10)) (2020.6.8)\n",
      "Requirement already satisfied: Pygments>=2.2.0 in /Users/ariefrahmansyah/.local/share/virtualenvs/face-mask-detection-RKX5C9o_/lib/python3.8/site-packages (from PyInquirer==1.0.3->tensorflowjs==2.0.1->-r https://raw.githubusercontent.com/ariefrahmansyah/face-mask-detection/master/requirements.txt (line 10)) (2.6.1)\n",
      "Requirement already satisfied: rsa<5,>=3.1.4; python_version >= \"3\" in /Users/ariefrahmansyah/.local/share/virtualenvs/face-mask-detection-RKX5C9o_/lib/python3.8/site-packages (from google-auth<2,>=1.6.3->tensorboard<2.3.0,>=2.2.0->tensorflow==2.2.0->-r https://raw.githubusercontent.com/ariefrahmansyah/face-mask-detection/master/requirements.txt (line 9)) (4.6)\n",
      "Requirement already satisfied: pyasn1-modules>=0.2.1 in /Users/ariefrahmansyah/.local/share/virtualenvs/face-mask-detection-RKX5C9o_/lib/python3.8/site-packages (from google-auth<2,>=1.6.3->tensorboard<2.3.0,>=2.2.0->tensorflow==2.2.0->-r https://raw.githubusercontent.com/ariefrahmansyah/face-mask-detection/master/requirements.txt (line 9)) (0.2.8)\n",
      "Requirement already satisfied: cachetools<5.0,>=2.0.0 in /Users/ariefrahmansyah/.local/share/virtualenvs/face-mask-detection-RKX5C9o_/lib/python3.8/site-packages (from google-auth<2,>=1.6.3->tensorboard<2.3.0,>=2.2.0->tensorflow==2.2.0->-r https://raw.githubusercontent.com/ariefrahmansyah/face-mask-detection/master/requirements.txt (line 9)) (4.1.0)\n",
      "Requirement already satisfied: requests-oauthlib>=0.7.0 in /Users/ariefrahmansyah/.local/share/virtualenvs/face-mask-detection-RKX5C9o_/lib/python3.8/site-packages (from google-auth-oauthlib<0.5,>=0.4.1->tensorboard<2.3.0,>=2.2.0->tensorflow==2.2.0->-r https://raw.githubusercontent.com/ariefrahmansyah/face-mask-detection/master/requirements.txt (line 9)) (1.3.0)\n",
      "Requirement already satisfied: idna<3,>=2.5 in /Users/ariefrahmansyah/.local/share/virtualenvs/face-mask-detection-RKX5C9o_/lib/python3.8/site-packages (from requests<3,>=2.21.0->tensorboard<2.3.0,>=2.2.0->tensorflow==2.2.0->-r https://raw.githubusercontent.com/ariefrahmansyah/face-mask-detection/master/requirements.txt (line 9)) (2.9)\n",
      "Requirement already satisfied: certifi>=2017.4.17 in /Users/ariefrahmansyah/.local/share/virtualenvs/face-mask-detection-RKX5C9o_/lib/python3.8/site-packages (from requests<3,>=2.21.0->tensorboard<2.3.0,>=2.2.0->tensorflow==2.2.0->-r https://raw.githubusercontent.com/ariefrahmansyah/face-mask-detection/master/requirements.txt (line 9)) (2020.6.20)\n",
      "Requirement already satisfied: urllib3!=1.25.0,!=1.25.1,<1.26,>=1.21.1 in /Users/ariefrahmansyah/.local/share/virtualenvs/face-mask-detection-RKX5C9o_/lib/python3.8/site-packages (from requests<3,>=2.21.0->tensorboard<2.3.0,>=2.2.0->tensorflow==2.2.0->-r https://raw.githubusercontent.com/ariefrahmansyah/face-mask-detection/master/requirements.txt (line 9)) (1.25.9)\n",
      "Requirement already satisfied: chardet<4,>=3.0.2 in /Users/ariefrahmansyah/.local/share/virtualenvs/face-mask-detection-RKX5C9o_/lib/python3.8/site-packages (from requests<3,>=2.21.0->tensorboard<2.3.0,>=2.2.0->tensorflow==2.2.0->-r https://raw.githubusercontent.com/ariefrahmansyah/face-mask-detection/master/requirements.txt (line 9)) (3.0.4)\n",
      "Requirement already satisfied: pyasn1>=0.1.3 in /Users/ariefrahmansyah/.local/share/virtualenvs/face-mask-detection-RKX5C9o_/lib/python3.8/site-packages (from rsa<5,>=3.1.4; python_version >= \"3\"->google-auth<2,>=1.6.3->tensorboard<2.3.0,>=2.2.0->tensorflow==2.2.0->-r https://raw.githubusercontent.com/ariefrahmansyah/face-mask-detection/master/requirements.txt (line 9)) (0.4.8)\n",
      "Requirement already satisfied: oauthlib>=3.0.0 in /Users/ariefrahmansyah/.local/share/virtualenvs/face-mask-detection-RKX5C9o_/lib/python3.8/site-packages (from requests-oauthlib>=0.7.0->google-auth-oauthlib<0.5,>=0.4.1->tensorboard<2.3.0,>=2.2.0->tensorflow==2.2.0->-r https://raw.githubusercontent.com/ariefrahmansyah/face-mask-detection/master/requirements.txt (line 9)) (3.1.0)\n",
      "Note: you may need to restart the kernel to use updated packages.\n"
     ]
    }
   ],
   "source": [
    "pip install -r https://raw.githubusercontent.com/ariefrahmansyah/face-mask-detection/master/requirements.txt"
   ]
  },
  {
   "cell_type": "markdown",
   "metadata": {},
   "source": [
    "# Train the face mask detector model"
   ]
  },
  {
   "cell_type": "markdown",
   "metadata": {},
   "source": [
    "## Preprocess the dataset"
   ]
  },
  {
   "cell_type": "code",
   "execution_count": 2,
   "metadata": {},
   "outputs": [
    {
     "name": "stderr",
     "output_type": "stream",
     "text": [
      "/Users/ariefrahmansyah/.local/share/virtualenvs/face-mask-detection-RKX5C9o_/lib/python3.8/site-packages/PIL/Image.py:959: UserWarning: Palette images with Transparency expressed in bytes should be converted to RGBA images\n",
      "  warnings.warn(\n"
     ]
    }
   ],
   "source": [
    "# Get the images\n",
    "\n",
    "from tensorflow.keras.applications.mobilenet_v2 import preprocess_input\n",
    "from tensorflow.keras.preprocessing.image import img_to_array\n",
    "from tensorflow.keras.preprocessing.image import load_img\n",
    "\n",
    "from imutils import paths\n",
    "import os\n",
    "\n",
    "data = []\n",
    "labels = []\n",
    "\n",
    "DATA_PATH = \"../data\"\n",
    "image_path_list = list(paths.list_images(DATA_PATH))\n",
    "\n",
    "for image_path in image_path_list:\n",
    "    # extract the class label from the filename\n",
    "    label = image_path.split(os.path.sep)[-2]\n",
    "\n",
    "    # load the input image (224x224) and preprocess it\n",
    "    image = load_img(image_path, target_size=(224, 224))\n",
    "    image = img_to_array(image)\n",
    "    image = preprocess_input(image)\n",
    "    \n",
    "    # update the data and labels lists, respectively\n",
    "    data.append(image)\n",
    "    labels.append(label)"
   ]
  },
  {
   "cell_type": "code",
   "execution_count": 3,
   "metadata": {},
   "outputs": [],
   "source": [
    "# Convert the images and labels to NumPy array\n",
    "\n",
    "import numpy as np\n",
    "\n",
    "data = np.array(data, dtype=\"float32\")\n",
    "labels = np.array(labels)"
   ]
  },
  {
   "cell_type": "code",
   "execution_count": 4,
   "metadata": {},
   "outputs": [],
   "source": [
    "# Perform one-hot encoding on the labels\n",
    "\n",
    "from sklearn.preprocessing import LabelBinarizer\n",
    "from tensorflow.keras.utils import to_categorical\n",
    "\n",
    "lb = LabelBinarizer()\n",
    "labels = lb.fit_transform(labels)\n",
    "labels = to_categorical(labels)"
   ]
  },
  {
   "cell_type": "code",
   "execution_count": 5,
   "metadata": {},
   "outputs": [],
   "source": [
    "# Partition the data into training and testing\n",
    "\n",
    "from sklearn.model_selection import train_test_split\n",
    "\n",
    "TEST_SIZE = 0.20\n",
    "(trainX, testX, trainY, testY) = train_test_split(data, labels, \n",
    "                                                  test_size=TEST_SIZE, stratify=labels, random_state=42)"
   ]
  },
  {
   "cell_type": "markdown",
   "metadata": {},
   "source": [
    "## Build and train the model"
   ]
  },
  {
   "cell_type": "code",
   "execution_count": 6,
   "metadata": {},
   "outputs": [],
   "source": [
    "# Construct the training image generator for data augmentation\n",
    "\n",
    "from tensorflow.keras.preprocessing.image import ImageDataGenerator\n",
    "\n",
    "aug = ImageDataGenerator(\n",
    "    rotation_range=20,\n",
    "    zoom_range=0.15,\n",
    "    width_shift_range=0.2,\n",
    "    height_shift_range=0.2,\n",
    "    shear_range=0.15,\n",
    "    horizontal_flip=True,\n",
    "    fill_mode=\"nearest\")"
   ]
  },
  {
   "cell_type": "code",
   "execution_count": 7,
   "metadata": {},
   "outputs": [
    {
     "name": "stdout",
     "output_type": "stream",
     "text": [
      "WARNING:tensorflow:`input_shape` is undefined or non-square, or `rows` is not in [96, 128, 160, 192, 224]. Weights for input shape (224, 224) will be loaded as the default.\n"
     ]
    }
   ],
   "source": [
    "# Load the MobileNetV2 network, ensuring the head FC layer sets are left off\n",
    "\n",
    "from tensorflow.keras.applications import MobileNetV2\n",
    "from tensorflow.keras.layers import Input\n",
    "\n",
    "baseModel = MobileNetV2(\n",
    "    weights=\"imagenet\",\n",
    "    include_top=False,\n",
    "    input_tensor=Input(shape=(224, 224, 3)))"
   ]
  },
  {
   "cell_type": "code",
   "execution_count": 8,
   "metadata": {},
   "outputs": [],
   "source": [
    "# Construct the head of the model that will be placed on top of the base model\n",
    "\n",
    "from tensorflow.keras.layers import AveragePooling2D\n",
    "from tensorflow.keras.layers import Dense\n",
    "from tensorflow.keras.layers import Dropout\n",
    "from tensorflow.keras.layers import Flatten\n",
    "\n",
    "headModel = baseModel.output\n",
    "headModel = AveragePooling2D(pool_size=(7, 7))(headModel)\n",
    "headModel = Flatten(name=\"flatten\")(headModel)\n",
    "headModel = Dense(128, activation=\"relu\")(headModel)\n",
    "headModel = Dropout(0.5)(headModel)\n",
    "headModel = Dense(2, activation=\"softmax\")(headModel)"
   ]
  },
  {
   "cell_type": "code",
   "execution_count": 9,
   "metadata": {},
   "outputs": [],
   "source": [
    "# Place the head FC model on top of the base model (this will become the actual model we will train)\n",
    "\n",
    "from tensorflow.keras.models import Model\n",
    "\n",
    "model = Model(inputs=baseModel.input, outputs=headModel)"
   ]
  },
  {
   "cell_type": "code",
   "execution_count": 10,
   "metadata": {},
   "outputs": [],
   "source": [
    "# Loop over all layers in the base model and freeze them so they will *not* be updated during the first training process\n",
    "\n",
    "for layer in baseModel.layers:\n",
    "    layer.trainable = False"
   ]
  },
  {
   "cell_type": "code",
   "execution_count": 11,
   "metadata": {},
   "outputs": [],
   "source": [
    "# Initialize the initial learning rate, number of epochs to train for, and batch size\n",
    "\n",
    "INIT_LR = 1e-4\n",
    "EPOCHS = 20\n",
    "BATCH_SIZE = 32"
   ]
  },
  {
   "cell_type": "code",
   "execution_count": 12,
   "metadata": {},
   "outputs": [],
   "source": [
    "# Compile the model\n",
    "\n",
    "from tensorflow.keras.optimizers import Adam\n",
    "\n",
    "opt = Adam(lr=INIT_LR, decay=INIT_LR / EPOCHS)\n",
    "model.compile(loss=\"binary_crossentropy\", optimizer=opt, metrics=[\"accuracy\"])"
   ]
  },
  {
   "cell_type": "code",
   "execution_count": 13,
   "metadata": {},
   "outputs": [
    {
     "name": "stdout",
     "output_type": "stream",
     "text": [
      "Epoch 1/20\n",
      "95/95 [==============================] - 73s 769ms/step - loss: 0.3437 - accuracy: 0.8490 - val_loss: 0.1022 - val_accuracy: 0.9700\n",
      "Epoch 2/20\n",
      "95/95 [==============================] - 77s 816ms/step - loss: 0.1213 - accuracy: 0.9618 - val_loss: 0.0637 - val_accuracy: 0.9804\n",
      "Epoch 3/20\n",
      "95/95 [==============================] - 69s 723ms/step - loss: 0.0950 - accuracy: 0.9687 - val_loss: 0.0570 - val_accuracy: 0.9804\n",
      "Epoch 4/20\n",
      "95/95 [==============================] - 68s 711ms/step - loss: 0.0610 - accuracy: 0.9809 - val_loss: 0.0515 - val_accuracy: 0.9791\n",
      "Epoch 5/20\n",
      "95/95 [==============================] - 66s 698ms/step - loss: 0.0576 - accuracy: 0.9799 - val_loss: 0.0438 - val_accuracy: 0.9831\n",
      "Epoch 6/20\n",
      "95/95 [==============================] - 67s 707ms/step - loss: 0.0526 - accuracy: 0.9835 - val_loss: 0.0451 - val_accuracy: 0.9844\n",
      "Epoch 7/20\n",
      "95/95 [==============================] - 71s 745ms/step - loss: 0.0493 - accuracy: 0.9832 - val_loss: 0.0411 - val_accuracy: 0.9857\n",
      "Epoch 8/20\n",
      "95/95 [==============================] - 73s 766ms/step - loss: 0.0442 - accuracy: 0.9858 - val_loss: 0.0429 - val_accuracy: 0.9857\n",
      "Epoch 9/20\n",
      "95/95 [==============================] - 70s 737ms/step - loss: 0.0385 - accuracy: 0.9901 - val_loss: 0.0398 - val_accuracy: 0.9870\n",
      "Epoch 10/20\n",
      "95/95 [==============================] - 75s 785ms/step - loss: 0.0375 - accuracy: 0.9868 - val_loss: 0.0337 - val_accuracy: 0.9870\n",
      "Epoch 11/20\n",
      "95/95 [==============================] - 78s 823ms/step - loss: 0.0378 - accuracy: 0.9878 - val_loss: 0.0349 - val_accuracy: 0.9870\n",
      "Epoch 12/20\n",
      "95/95 [==============================] - 84s 884ms/step - loss: 0.0302 - accuracy: 0.9911 - val_loss: 0.0334 - val_accuracy: 0.9870\n",
      "Epoch 13/20\n",
      "95/95 [==============================] - 81s 857ms/step - loss: 0.0328 - accuracy: 0.9895 - val_loss: 0.0351 - val_accuracy: 0.9883\n",
      "Epoch 14/20\n",
      "95/95 [==============================] - 80s 837ms/step - loss: 0.0227 - accuracy: 0.9941 - val_loss: 0.0305 - val_accuracy: 0.9883\n",
      "Epoch 15/20\n",
      "95/95 [==============================] - 79s 835ms/step - loss: 0.0297 - accuracy: 0.9891 - val_loss: 0.0295 - val_accuracy: 0.9896\n",
      "Epoch 16/20\n",
      "95/95 [==============================] - 80s 845ms/step - loss: 0.0216 - accuracy: 0.9937 - val_loss: 0.0306 - val_accuracy: 0.9896\n",
      "Epoch 17/20\n",
      "95/95 [==============================] - 83s 871ms/step - loss: 0.0249 - accuracy: 0.9911 - val_loss: 0.0364 - val_accuracy: 0.9896\n",
      "Epoch 18/20\n",
      "95/95 [==============================] - 75s 789ms/step - loss: 0.0231 - accuracy: 0.9931 - val_loss: 0.0314 - val_accuracy: 0.9883\n",
      "Epoch 19/20\n",
      "95/95 [==============================] - 79s 832ms/step - loss: 0.0273 - accuracy: 0.9921 - val_loss: 0.0403 - val_accuracy: 0.9870\n",
      "Epoch 20/20\n",
      "95/95 [==============================] - 81s 854ms/step - loss: 0.0197 - accuracy: 0.9937 - val_loss: 0.0298 - val_accuracy: 0.9909\n"
     ]
    }
   ],
   "source": [
    "# Train the head of the network\n",
    "\n",
    "H = model.fit(\n",
    "    aug.flow(trainX, trainY, batch_size=BATCH_SIZE),\n",
    "    steps_per_epoch=len(trainX) // BATCH_SIZE,\n",
    "    validation_data=(testX, testY),\n",
    "    validation_steps=len(testX) // BATCH_SIZE,\n",
    "    epochs=EPOCHS)"
   ]
  },
  {
   "cell_type": "markdown",
   "metadata": {},
   "source": [
    "## Evaluate the model"
   ]
  },
  {
   "cell_type": "code",
   "execution_count": 14,
   "metadata": {},
   "outputs": [],
   "source": [
    "# Make predictions on the testing dataset\n",
    "predIdxs = model.predict(testX, batch_size=BATCH_SIZE)\n",
    "\n",
    "# For each image in the testing set we need to find the index of the label with corresponding largest predicted probability\n",
    "predIdxs = np.argmax(predIdxs, axis=1)"
   ]
  },
  {
   "cell_type": "code",
   "execution_count": 15,
   "metadata": {},
   "outputs": [
    {
     "name": "stdout",
     "output_type": "stream",
     "text": [
      "              precision    recall  f1-score   support\n",
      "\n",
      "   with_mask       0.98      1.00      0.99       383\n",
      "without_mask       1.00      0.98      0.99       384\n",
      "\n",
      "    accuracy                           0.99       767\n",
      "   macro avg       0.99      0.99      0.99       767\n",
      "weighted avg       0.99      0.99      0.99       767\n",
      "\n"
     ]
    }
   ],
   "source": [
    "# Show a nicely formatted classification report\n",
    "\n",
    "from sklearn.metrics import classification_report\n",
    "\n",
    "print(classification_report(testY.argmax(axis=1), predIdxs, target_names=lb.classes_))"
   ]
  },
  {
   "cell_type": "code",
   "execution_count": 16,
   "metadata": {},
   "outputs": [
    {
     "data": {
      "text/plain": [
       "<matplotlib.legend.Legend at 0x1c0797fd0>"
      ]
     },
     "execution_count": 16,
     "metadata": {},
     "output_type": "execute_result"
    },
    {
     "data": {
      "image/png": "[encoded data removed]",
      "text/plain": [
       "<Figure size 432x288 with 1 Axes>"
      ]
     },
     "metadata": {},
     "output_type": "display_data"
    }
   ],
   "source": [
    "# plot the training loss and accuracy\n",
    "\n",
    "import matplotlib.pyplot as plt\n",
    "\n",
    "plt.style.use(\"ggplot\")\n",
    "plt.figure()\n",
    "\n",
    "plt.plot(np.arange(0, EPOCHS), H.history[\"loss\"], label=\"train_loss\")\n",
    "plt.plot(np.arange(0, EPOCHS), H.history[\"val_loss\"], label=\"val_loss\")\n",
    "plt.plot(np.arange(0, EPOCHS), H.history[\"accuracy\"], label=\"train_acc\")\n",
    "plt.plot(np.arange(0, EPOCHS), H.history[\"val_accuracy\"], label=\"val_acc\")\n",
    "\n",
    "plt.title(\"Training Loss and Accuracy\")\n",
    "plt.xlabel(\"Epoch #\")\n",
    "plt.ylabel(\"Loss/Accuracy\")\n",
    "plt.legend(loc=\"lower left\")"
   ]
  },
  {
   "cell_type": "markdown",
   "metadata": {},
   "source": [
    "# Save and export model"
   ]
  },
  {
   "cell_type": "code",
   "execution_count": 17,
   "metadata": {},
   "outputs": [],
   "source": [
    "# Save the model\n",
    "\n",
    "MODEL_PATH = \"../models/face_mask_detector.h5\"\n",
    "model.save(MODEL_PATH, save_format=\"h5\")"
   ]
  },
  {
   "cell_type": "code",
   "execution_count": 18,
   "metadata": {},
   "outputs": [
    {
     "name": "stderr",
     "output_type": "stream",
     "text": [
      "/Users/ariefrahmansyah/.local/share/virtualenvs/face-mask-detection-RKX5C9o_/lib/python3.8/site-packages/tensorflowjs/converters/keras_h5_conversion.py:122: H5pyDeprecationWarning: The default file mode will change to 'r' (read-only) in h5py 3.0. To suppress this warning, pass the mode you need to h5py.File(), or set the global default h5.get_config().default_file_mode, or set the environment variable H5PY_DEFAULT_READONLY=1. Available modes are: 'r', 'r+', 'w', 'w-'/'x', 'a'. See the docs for details.\n",
      "  return h5py.File(h5file)\n"
     ]
    }
   ],
   "source": [
    "# Export into TensorFlow.js\n",
    "\n",
    "import tensorflowjs as tfjs\n",
    "\n",
    "TFJS_MODEL_DIR = \"../models/tfjs\"\n",
    "tfjs.converters.save_keras_model(model, TFJS_MODEL_DIR)"
   ]
  }
 ],
 "metadata": {
  "kernelspec": {
   "display_name": "face-mask-detection",
   "language": "python",
   "name": "face-mask-detection"
  },
  "language_info": {
   "codemirror_mode": {
    "name": "ipython",
    "version": 3
   },
   "file_extension": ".py",
   "mimetype": "text/x-python",
   "name": "python",
   "nbconvert_exporter": "python",
   "pygments_lexer": "ipython3",
   "version": "3.8.3"
  }
 },
 "nbformat": 4,
 "nbformat_minor": 4
}
